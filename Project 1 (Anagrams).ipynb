{
 "cells": [
  {
   "cell_type": "code",
   "execution_count": 6,
   "id": "ab38ae63",
   "metadata": {},
   "outputs": [
    {
     "name": "stdout",
     "output_type": "stream",
     "text": [
      "boat\n"
     ]
    }
   ],
   "source": [
    "w = \"boat\"\n",
    "print(w)"
   ]
  },
  {
   "cell_type": "code",
   "execution_count": 7,
   "id": "23047e73",
   "metadata": {},
   "outputs": [
    {
     "name": "stdout",
     "output_type": "stream",
     "text": [
      "['b', 'o', 'a', 't']\n"
     ]
    }
   ],
   "source": [
    "X=list(w)\n",
    "print(X)"
   ]
  },
  {
   "cell_type": "code",
   "execution_count": 8,
   "id": "7b651c09",
   "metadata": {},
   "outputs": [
    {
     "name": "stdout",
     "output_type": "stream",
     "text": [
      "['a', 'o', 'b', 't']\n"
     ]
    }
   ],
   "source": [
    "def swap(X,pos1,pos2):\n",
    "    X[pos1],X[pos2]=X[pos2],X[pos1]\n",
    "    return X\n",
    "w1 = swap(X,0,2)\n",
    "print(w1)"
   ]
  },
  {
   "cell_type": "code",
   "execution_count": 9,
   "id": "ae4dbc56",
   "metadata": {},
   "outputs": [
    {
     "name": "stdout",
     "output_type": "stream",
     "text": [
      "a o b t\n"
     ]
    }
   ],
   "source": [
    "str=\" \"\n",
    "w3=str.join(w1)\n",
    "print(w3)"
   ]
  },
  {
   "cell_type": "code",
   "execution_count": 10,
   "id": "44978dd2",
   "metadata": {},
   "outputs": [
    {
     "name": "stdout",
     "output_type": "stream",
     "text": [
      "create\n"
     ]
    }
   ],
   "source": [
    "c=\"create\"\n",
    "print(c)"
   ]
  },
  {
   "cell_type": "code",
   "execution_count": 11,
   "id": "032bea61",
   "metadata": {},
   "outputs": [
    {
     "name": "stdout",
     "output_type": "stream",
     "text": [
      "['c', 'r', 'e', 'a', 't', 'e']\n"
     ]
    }
   ],
   "source": [
    "l =list(c)\n",
    "print(l)"
   ]
  },
  {
   "cell_type": "code",
   "execution_count": 12,
   "id": "5a7d77f8",
   "metadata": {},
   "outputs": [
    {
     "name": "stdout",
     "output_type": "stream",
     "text": [
      "['t', 'r', 'c', 'a', 'e', 'e']\n"
     ]
    }
   ],
   "source": [
    "def swap(l,pos1,pos2,pos3):\n",
    "    l[pos1],l[pos2],l[pos3]=l[pos3],l[pos1],l[pos2]\n",
    "    return l\n",
    "c1 = swap(l,0,2,4)\n",
    "print(c1)"
   ]
  },
  {
   "cell_type": "code",
   "execution_count": 13,
   "id": "0d239742",
   "metadata": {},
   "outputs": [
    {
     "name": "stdout",
     "output_type": "stream",
     "text": [
      "t r c a e e\n"
     ]
    }
   ],
   "source": [
    "str = \" \"\n",
    "c2=str.join(c1)\n",
    "print(c2)"
   ]
  },
  {
   "cell_type": "code",
   "execution_count": null,
   "id": "aaf4a19f",
   "metadata": {},
   "outputs": [],
   "source": [
    "a=input(\"enter a word\")\n",
    "b=input(\"enter a word\")\n",
    "x=sorted(a)\n",
    "y=sorted(b)\n",
    "if x==y:\n",
    "    print(\"anagram\")\n",
    "else:\n",
    "    print(\"not anagram\")"
   ]
  },
  {
   "cell_type": "code",
   "execution_count": null,
   "id": "e8a3f51d",
   "metadata": {},
   "outputs": [],
   "source": [
    "Vowel"
   ]
  },
  {
   "cell_type": "code",
   "execution_count": 3,
   "id": "b8cc8b01",
   "metadata": {},
   "outputs": [
    {
     "name": "stdout",
     "output_type": "stream",
     "text": [
      "enter a wordcomplete\n",
      "e\n",
      "o\n",
      "2\n"
     ]
    }
   ],
   "source": [
    "a=input(\"enter a word\")\n",
    "b=list(a)\n",
    "count=0\n",
    "v=[\"a\",\"e\",\"i\",\"o\",\"u\",\"A\",\"E\",\"I\",\"O\",\"U\"]\n",
    "for i in v:\n",
    "    if (i in b):\n",
    "        print(i)\n",
    "        count = count + 1\n",
    "print(count)"
   ]
  },
  {
   "cell_type": "code",
   "execution_count": null,
   "id": "fdc14d2d",
   "metadata": {},
   "outputs": [],
   "source": []
  }
 ],
 "metadata": {
  "kernelspec": {
   "display_name": "Python 3 (ipykernel)",
   "language": "python",
   "name": "python3"
  },
  "language_info": {
   "codemirror_mode": {
    "name": "ipython",
    "version": 3
   },
   "file_extension": ".py",
   "mimetype": "text/x-python",
   "name": "python",
   "nbconvert_exporter": "python",
   "pygments_lexer": "ipython3",
   "version": "3.11.4"
  }
 },
 "nbformat": 4,
 "nbformat_minor": 5
}
